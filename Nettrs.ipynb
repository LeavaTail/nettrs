{
 "cells": [
  {
   "cell_type": "code",
   "execution_count": 1,
   "metadata": {
    "scrolled": true
   },
   "outputs": [
    {
     "name": "stdout",
     "output_type": "stream",
     "text": [
      "pygame 1.9.6\n",
      "Hello from the pygame community. https://www.pygame.org/contribute.html\n"
     ]
    }
   ],
   "source": [
    "import numpy as np\n",
    "import pygame\n",
    "from pygame.locals import * "
   ]
  },
  {
   "cell_type": "code",
   "execution_count": 2,
   "metadata": {},
   "outputs": [],
   "source": [
    "def Next_Ball(b_group,Stage):\n",
    "    Stage.add(b_group.sprites()[0])\n",
    "    b_group.remove(b_group.sprites())  \n",
    "    block = Block(\"test.png\",150,0,Stage)\n",
    "    b_group.add(block)\n",
    "    return Stage,b_group,block\n",
    "\n",
    "def key_handle(key,block,group):\n",
    "    if key==K_SPACE:\n",
    "        block.move_dfast()\n",
    "    elif key==K_LEFT:\n",
    "        block.move_left()\n",
    "    elif key==K_RIGHT:\n",
    "        block.move_right()\n",
    "    elif key==K_DOWN:\n",
    "        block.move_down()\n",
    "    else:\n",
    "        print(\"ERROR\")"
   ]
  },
  {
   "cell_type": "code",
   "execution_count": 6,
   "metadata": {},
   "outputs": [],
   "source": [
    "def Check_Stage(Stage):\n",
    "    is_full = False\n",
    "    lower_rows = [blocks for blocks in Stage.sprites() if blocks.rect.bottom==400]\n",
    "    if len(lower_rows) == 8:\n",
    "        is_full = True\n",
    "    return is_full,lower_rows\n",
    "\n",
    "def clear_row(Stage,lower_rows):\n",
    "    Stage.remove(lower_rows)\n",
    "    for block in Stage:\n",
    "        block.isdead=False\n",
    "        block.move_down()\n",
    "        print(block.rect.bottom)"
   ]
  },
  {
   "cell_type": "code",
   "execution_count": 4,
   "metadata": {},
   "outputs": [],
   "source": [
    "class Block(pygame.sprite.Sprite):\n",
    "    def __init__(self,filename,x,y,Stage):\n",
    "        pygame.sprite.Sprite.__init__(self)\n",
    "        self.image = pygame.image.load(filename).convert_alpha()\n",
    "        self.image = pygame.transform.scale(self.image,(50,50))\n",
    "        self.rect = self.image.get_rect()\n",
    "        self.rect.center = (x+25,y+25)\n",
    "        self.stage = Stage\n",
    "        self.isdead = False\n",
    "        \n",
    "    def move_left(self):\n",
    "        if self.rect.left  >= 50:\n",
    "            self.rect.move_ip(-50,0)\n",
    "    def move_right(self):\n",
    "        if self.rect.right <= 350:\n",
    "            self.rect.move_ip(50,0)\n",
    "    def move_down(self):\n",
    "        for sblock in self.stage.sprites():\n",
    "            if (self.rect.right == sblock.rect.right) and (self.rect.bottom == sblock.rect.top):\n",
    "                self.isdead = True\n",
    "        if (self.rect.bottom > 350):\n",
    "            self.isdead = True\n",
    "        if self.isdead == False:\n",
    "            self.rect.move_ip(0,50)\n",
    "    def move_dfast(self):\n",
    "        while(self.isdead==False):\n",
    "            self.move_down()"
   ]
  },
  {
   "cell_type": "code",
   "execution_count": 7,
   "metadata": {},
   "outputs": [
    {
     "name": "stdout",
     "output_type": "stream",
     "text": [
      "400\n",
      "400\n",
      "400\n",
      "350\n",
      "400\n",
      "400\n",
      "ERROR\n"
     ]
    },
    {
     "ename": "SystemExit",
     "evalue": "",
     "output_type": "error",
     "traceback": [
      "An exception has occurred, use %tb to see the full traceback.\n",
      "\u001b[0;31mSystemExit\u001b[0m\n"
     ]
    }
   ],
   "source": [
    "title = \"TETRIS\"\n",
    "pygame.init()\n",
    "SCREEN = Rect(0, 0, 400, 400)\n",
    "screen = pygame.display.set_mode(SCREEN.size)\n",
    "pygame.display.set_caption(title)\n",
    "\n",
    "Stage = pygame.sprite.RenderUpdates()\n",
    "\n",
    "block = Block(\"test.png\",150,0,Stage)\n",
    "b_group = pygame.sprite.RenderUpdates()\n",
    "b_group.add(block)\n",
    "b_group.update()\n",
    "\n",
    "clock = pygame.time.Clock()\n",
    "while (1):\n",
    "    clock.tick(30)\n",
    "    # イベント処理\n",
    "    for event in pygame.event.get():\n",
    "        if event.type == QUIT:  # 閉じるボタンが押されたら終了\n",
    "            pygame.quit()       # Pygameの終了(画面閉じられる)\n",
    "            sys.exit()\n",
    "        elif event.type == KEYDOWN:\n",
    "            key_handle(event.key,block,b_group)\n",
    "            if b_group.sprites()[0].isdead:\n",
    "                Stage,b_group,block = Next_Ball(b_group,Stage)\n",
    "                is_full,lower_rows = Check_Stage(Stage)\n",
    "                if is_full:\n",
    "                    clear_row(Stage,lower_rows)\n",
    "\n",
    "    screen.fill((255,255,255))\n",
    "    b_group.draw(screen)\n",
    "    Stage.draw(screen)\n",
    "    pygame.display.update()"
   ]
  }
 ],
 "metadata": {
  "kernelspec": {
   "display_name": "Python 3",
   "language": "python",
   "name": "python3"
  }
 },
 "nbformat": 4,
 "nbformat_minor": 4
}
