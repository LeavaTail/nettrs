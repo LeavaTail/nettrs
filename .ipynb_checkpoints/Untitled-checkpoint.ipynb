{
 "cells": [
  {
   "cell_type": "code",
   "execution_count": 1,
   "metadata": {
    "scrolled": true
   },
   "outputs": [
    {
     "name": "stdout",
     "output_type": "stream",
     "text": [
      "pygame 1.9.6\n",
      "Hello from the pygame community. https://www.pygame.org/contribute.html\n"
     ]
    }
   ],
   "source": [
    "import numpy as np\n",
    "import pygame\n",
    "from pygame.locals import * "
   ]
  },
  {
   "cell_type": "markdown",
   "metadata": {},
   "source": [
    "Pygameでは「pygame.sprite」を使うとスプライトの管理、描画、衝突判定等を簡単にできます。"
   ]
  },
  {
   "cell_type": "code",
   "execution_count": 2,
   "metadata": {},
   "outputs": [],
   "source": [
    "class Stage:\n",
    "    def __init__(self,win_x,win_y):\n",
    "        self.stage_ = np.zeros(win_x*win_y//100).reshape(win_x//10,win_y//10)\n",
    "    def render_stage():\n",
    "        pass\n",
    "    def move_stage_color_down():\n",
    "        pass\n",
    "    def check_row(row):\n",
    "        pass\n",
    "    def update_grid_status(x,y):\n",
    "        pass\n",
    "    def copy_block_color():\n",
    "        pass\n",
    "    def get_grid_status(x,y):\n",
    "        pass"
   ]
  },
  {
   "cell_type": "code",
   "execution_count": 3,
   "metadata": {},
   "outputs": [],
   "source": [
    "def move_left():\n",
    "    pass\n",
    "def move_right():\n",
    "    pass\n",
    "def move_down():\n",
    "    pass\n",
    "def move_dfast():\n",
    "    pass\n",
    "\n",
    "def key_handle(key):\n",
    "    if key==K_SPACE:\n",
    "        move_dfast()\n",
    "    elif key==K_LEFT:\n",
    "        move_left()\n",
    "    elif key==K_RIGHT:\n",
    "        move_right()\n",
    "    elif key==K_DOWN:\n",
    "        move_down()\n",
    "    else:\n",
    "        print(\"ERROR\")"
   ]
  },
  {
   "cell_type": "code",
   "execution_count": 6,
   "metadata": {},
   "outputs": [],
   "source": [
    "class Block(pygame.sprite.Sprite):\n",
    "    def __init__(self,filename,x,y):\n",
    "        pygame.sprite.Sprite.__init__(self)\n",
    "        self.image = pygame.image.load(filename).convert_alpha()\n",
    "        self.image = pygame.transform.scale(self.image,(100,100))\n",
    "        self.rect = self.image.get_rect()\n",
    "        self.rect.center = (x,y)\n",
    "        \n",
    "    def move_left():\n",
    "        self.rect.move_ip(-10,0)\n",
    "    def move_rigt():\n",
    "        self.rect.move_ip(10,0)\n",
    "    "
   ]
  },
  {
   "cell_type": "code",
   "execution_count": 7,
   "metadata": {},
   "outputs": [
    {
     "name": "stdout",
     "output_type": "stream",
     "text": [
      "ERROR\n",
      "ERROR\n"
     ]
    },
    {
     "ename": "SystemExit",
     "evalue": "",
     "output_type": "error",
     "traceback": [
      "An exception has occurred, use %tb to see the full traceback.\n",
      "\u001b[0;31mSystemExit\u001b[0m\n"
     ]
    }
   ],
   "source": [
    "title = \"TETRIS\"\n",
    "pygame.init()\n",
    "SCREEN = Rect(0, 0, 400, 400)\n",
    "screen = pygame.display.set_mode(SCREEN.size)\n",
    "pygame.display.set_caption(title)\n",
    "\n",
    "screen.fill((255,255,255))        # 画面をwhiteに塗りつぶし\n",
    "\n",
    "group = pygame.sprite.RenderUpdates()\n",
    "group.add(Block(\"test.png\",0,0))\n",
    "group.add(Block(\"test.png\",100,0))\n",
    "group.add(Block(\"test.png\",200,0))\n",
    "group.add(Block(\"test.png\",300,0))\n",
    "\n",
    "clock = pygame.time.Clock()\n",
    "while (1):\n",
    "    clock.tick(30)\n",
    "    group.update()\n",
    "    group.draw(screen)\n",
    "    pygame.display.update()     # 画面を更新     \n",
    "    # イベント処理\n",
    "    for event in pygame.event.get():\n",
    "        if event.type == QUIT:  # 閉じるボタンが押されたら終了\n",
    "            pygame.quit()       # Pygameの終了(画面閉じられる)\n",
    "            sys.exit()\n",
    "        elif event.type == KEYDOWN:\n",
    "            key_handle(event.key)"
   ]
  },
  {
   "cell_type": "code",
   "execution_count": null,
   "metadata": {},
   "outputs": [],
   "source": []
  },
  {
   "cell_type": "code",
   "execution_count": null,
   "metadata": {},
   "outputs": [],
   "source": []
  }
 ],
 "metadata": {
  "kernelspec": {
   "display_name": "Python 3",
   "language": "python",
   "name": "python3"
  },
  "language_info": {
   "codemirror_mode": {
    "name": "ipython",
    "version": 3
   },
   "file_extension": ".py",
   "mimetype": "text/x-python",
   "name": "python",
   "nbconvert_exporter": "python",
   "pygments_lexer": "ipython3",
   "version": "3.8.3"
  }
 },
 "nbformat": 4,
 "nbformat_minor": 4
}
